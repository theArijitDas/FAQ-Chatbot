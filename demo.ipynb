{
 "cells": [
  {
   "cell_type": "code",
   "execution_count": 1,
   "metadata": {},
   "outputs": [],
   "source": [
    "import sys\n",
    "sys.path.append('..')"
   ]
  },
  {
   "cell_type": "code",
   "execution_count": 2,
   "metadata": {},
   "outputs": [],
   "source": [
    "from main import FaqBot"
   ]
  },
  {
   "cell_type": "code",
   "execution_count": 5,
   "metadata": {},
   "outputs": [
    {
     "name": "stdout",
     "output_type": "stream",
     "text": [
      "0.0\n",
      "Yes, you can change it at the end of the first year (refer to Chapter 2 of the UG Manual).\n",
      "You’ll get delectable meals in your hostel mess as well as canteens\n",
      "\n",
      "0.1\n",
      "Yes, you can change it at the end of the first year (refer to Chapter 2 of the UG Manual).\n",
      "You’ll get delectable meals in your hostel mess as well as canteens\n",
      "\n",
      "0.2\n",
      "Yes, you can change it at the end of the first year (refer to Chapter 2 of the UG Manual).\n",
      "You’ll get delectable meals in your hostel mess as well as canteens\n",
      "\n",
      "0.3\n",
      "Yes, you can change it at the end of the first year (refer to Chapter 2 of the UG Manual).\n",
      "You’ll get delectable meals in your hostel mess as well as canteens\n",
      "\n",
      "0.4\n",
      "Yes, you can change it at the end of the first year (refer to Chapter 2 of the UG Manual).\n",
      "You’ll get delectable meals in your hostel mess as well as canteens\n",
      "\n",
      "0.5\n",
      "Yes, you can change it at the end of the first year (refer to Chapter 2 of the UG Manual).\n",
      "You’ll get delectable meals in your hostel mess as well as canteens\n",
      "\n",
      "0.6\n",
      "Yes, you can change it at the end of the first year (refer to Chapter 2 of the UG Manual).\n",
      "Could not follow your question [how is the sport facil], Try again\n",
      "\n",
      "0.7\n",
      "Yes, you can change it at the end of the first year (refer to Chapter 2 of the UG Manual).\n",
      "Could not follow your question [how is the sport facil], Try again\n",
      "\n",
      "0.8\n",
      "Yes, you can change it at the end of the first year (refer to Chapter 2 of the UG Manual).\n",
      "Could not follow your question [how is the sport facil], Try again\n",
      "\n",
      "0.9\n",
      "Could not follow your question [can i chang my branch ?], Try again\n",
      "Could not follow your question [how is the sport facil], Try again\n",
      "\n"
     ]
    }
   ],
   "source": [
    "question = \"Can I change my branch?\"\n",
    "FaqBot(question, threshold=0.6)"
   ]
  },
  {
   "cell_type": "code",
   "execution_count": null,
   "metadata": {},
   "outputs": [],
   "source": []
  }
 ],
 "metadata": {
  "kernelspec": {
   "display_name": "Python 3",
   "language": "python",
   "name": "python3"
  },
  "language_info": {
   "codemirror_mode": {
    "name": "ipython",
    "version": 3
   },
   "file_extension": ".py",
   "mimetype": "text/x-python",
   "name": "python",
   "nbconvert_exporter": "python",
   "pygments_lexer": "ipython3",
   "version": "3.10.2"
  },
  "orig_nbformat": 4
 },
 "nbformat": 4,
 "nbformat_minor": 2
}
